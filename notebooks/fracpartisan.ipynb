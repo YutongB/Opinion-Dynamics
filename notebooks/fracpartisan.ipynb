{
 "cells": [
  {
   "cell_type": "markdown",
   "metadata": {},
   "source": [
    "## Imports"
   ]
  },
  {
   "cell_type": "code",
   "execution_count": 99,
   "metadata": {},
   "outputs": [],
   "source": [
    "from collections import namedtuple, defaultdict\n",
    "import matplotlib.pyplot as plt\n",
    "import numpy as np\n",
    "\n",
    "\n",
    "Result = namedtuple(\"result\", [\"partisans\", \"asymptotic\", \"non_partisans_mean\"])"
   ]
  },
  {
   "cell_type": "code",
   "execution_count": 64,
   "metadata": {},
   "outputs": [],
   "source": [
    "PARTISAN_BIAS = 0.3\n",
    "TRUE_BIAS = 0.6"
   ]
  },
  {
   "cell_type": "markdown",
   "metadata": {},
   "source": [
    "## Load data"
   ]
  },
  {
   "cell_type": "code",
   "execution_count": 27,
   "metadata": {},
   "outputs": [],
   "source": [
    "import json\n",
    "results: list[Result] = []\n",
    "\n",
    "with open(\"../output/bigexperiment-1.log\", 'r') as f:\n",
    "    for line in f:\n",
    "        results.append(Result(**json.loads(line)))\n",
    "\n"
   ]
  },
  {
   "cell_type": "markdown",
   "metadata": {},
   "source": [
    "## Experimentation"
   ]
  },
  {
   "cell_type": "code",
   "execution_count": 31,
   "metadata": {},
   "outputs": [
    {
     "data": {
      "text/plain": [
       "('partisans', 'asymptotic', 'non_partisans_mean')"
      ]
     },
     "execution_count": 31,
     "metadata": {},
     "output_type": "execute_result"
    }
   ],
   "source": [
    "results[0]._fields"
   ]
  },
  {
   "cell_type": "code",
   "execution_count": 32,
   "metadata": {},
   "outputs": [],
   "source": [
    "results_d = {r.partisans: r for r in results}"
   ]
  },
  {
   "cell_type": "code",
   "execution_count": 129,
   "metadata": {},
   "outputs": [],
   "source": [
    "result = results_d[0.01]"
   ]
  },
  {
   "cell_type": "code",
   "execution_count": 36,
   "metadata": {},
   "outputs": [
    {
     "data": {
      "text/plain": [
       "(10000, 10000, 70)"
      ]
     },
     "execution_count": 36,
     "metadata": {},
     "output_type": "execute_result"
    }
   ],
   "source": [
    "len(result.asymptotic), len(result.non_partisans_mean), len(result.non_partisans_mean[0]) "
   ]
  },
  {
   "cell_type": "code",
   "execution_count": 46,
   "metadata": {},
   "outputs": [
    {
     "data": {
      "text/plain": [
       "[<matplotlib.lines.Line2D at 0x17e4d7dc0>]"
      ]
     },
     "execution_count": 46,
     "metadata": {},
     "output_type": "execute_result"
    },
    {
     "data": {
      "image/png": "[encoded data removed]",
      "text/plain": [
       "<Figure size 432x288 with 1 Axes>"
      ]
     },
     "metadata": {
      "needs_background": "light"
     },
     "output_type": "display_data"
    }
   ],
   "source": [
    "plt.plot(result.asymptotic)"
   ]
  },
  {
   "cell_type": "markdown",
   "metadata": {},
   "source": [
    "## Dwell bias"
   ]
  },
  {
   "cell_type": "code",
   "execution_count": 140,
   "metadata": {},
   "outputs": [],
   "source": [
    "from enum import Enum\n",
    "\n",
    "DwellBias = Enum(\"DwellBias\", \"TRUE PARTISAN OTHER NON_CONVERGED\")\n",
    "\n",
    "EPSILON = 0.025  # if true bias is 0.60, consider equal if in the range 0.575 to 0.625. \n",
    "START_INDEX = 2000\n",
    "\n",
    "def find_dwell_bias(non_partisan_mean: np.array) -> DwellBias:\n",
    "    # all non-partisans have the same bias\n",
    "    one_mean = non_partisan_mean[0]\n",
    "    if np.allclose(non_partisan_mean, one_mean, atol=EPSILON):\n",
    "\n",
    "        # all non partisans have the partisan bias\n",
    "        if np.isclose(one_mean, PARTISAN_BIAS, atol=EPSILON):\n",
    "            return DwellBias.PARTISAN\n",
    "\n",
    "        # all non-partisans have the true bias\n",
    "        elif np.isclose(one_mean, TRUE_BIAS, atol=EPSILON):\n",
    "            return DwellBias.TRUE\n",
    "\n",
    "        else: \n",
    "            return DwellBias.OTHER\n",
    "\n",
    "    # something else...\n",
    "    return DwellBias.NON_CONVERGED"
   ]
  },
  {
   "cell_type": "code",
   "execution_count": 149,
   "metadata": {},
   "outputs": [],
   "source": [
    "DwellBiasPeakResult = namedtuple(\"DwellBiasPeakResult\", \"time peak non_partisan_mean\")\n",
    "\n",
    "def find_dwell_bias_peaks(result: Result, start_index: int=0) -> dict[DwellBias, DwellBiasPeakResult]:\n",
    "    asymptotic = result.asymptotic[start_index:]\n",
    "    non_partisans_mean = result.non_partisans_mean[start_index:]\n",
    "\n",
    "    # find the indices of each element of asymptotic that is greater than the next element\n",
    "    # (i.e. the indices of the peaks)\n",
    "    asymptotic_peak_idxs = np.where(np.diff(asymptotic) < 0)[0]\n",
    "\n",
    "    for i in asymptotic_peak_idxs: # make sure that code above worked correctly\n",
    "        assert (asymptotic[i] > 0 and asymptotic[i+1] == 0)\n",
    "\n",
    "    asymptotic_peaks = [asymptotic[i] for i in asymptotic_peak_idxs]\n",
    "\n",
    "    dwell_biases = [find_dwell_bias(non_partisans_mean[i]) for i in asymptotic_peak_idxs]\n",
    "\n",
    "    # list of each bias and the asymptotic learning peaks that correspond to it\n",
    "    dwell_bias_peaks_by_bias = {bias: [] for bias in DwellBias}\n",
    "\n",
    "    dwell_bias_peaks = zip(asymptotic_peak_idxs, dwell_biases, asymptotic_peaks)\n",
    "    for i, bias, peak in dwell_bias_peaks:\n",
    "        time = i + start_index\n",
    "        dwell_bias_peaks_by_bias[bias].append(DwellBiasPeakResult(time, peak, non_partisans_mean[i][-1]))\n",
    "    \n",
    "    return dict(dwell_bias_peaks_by_bias)"
   ]
  },
  {
   "cell_type": "code",
   "execution_count": 150,
   "metadata": {},
   "outputs": [],
   "source": [
    "dwell_bias_peaks_by_bias = find_dwell_bias_peaks(result, start_index=START_INDEX)\n",
    "assert dwell_bias_peaks_by_bias[DwellBias.NON_CONVERGED] == []"
   ]
  },
  {
   "cell_type": "code",
   "execution_count": 151,
   "metadata": {},
   "outputs": [
    {
     "data": {
      "text/plain": [
       "[DwellBiasPeakResult(time=2034, peak=10, non_partisan_mean=0.5477321431736402),\n",
       " DwellBiasPeakResult(time=2036, peak=1, non_partisan_mean=0.5472375464402217),\n",
       " DwellBiasPeakResult(time=2064, peak=27, non_partisan_mean=0.549106955286359),\n",
       " DwellBiasPeakResult(time=2070, peak=5, non_partisan_mean=0.5497221116475226),\n",
       " DwellBiasPeakResult(time=2081, peak=6, non_partisan_mean=0.5529389695269108),\n",
       " DwellBiasPeakResult(time=2087, peak=5, non_partisan_mean=0.5544560331563824),\n",
       " DwellBiasPeakResult(time=2095, peak=1, non_partisan_mean=0.5517374952251957),\n",
       " DwellBiasPeakResult(time=2097, peak=1, non_partisan_mean=0.551137941452642),\n",
       " DwellBiasPeakResult(time=2105, peak=2, non_partisan_mean=0.5531742706328755),\n",
       " DwellBiasPeakResult(time=2116, peak=2, non_partisan_mean=0.5525753368977444),\n",
       " DwellBiasPeakResult(time=2119, peak=2, non_partisan_mean=0.5531016562587878),\n",
       " DwellBiasPeakResult(time=2156, peak=7, non_partisan_mean=0.5498895393423021),\n",
       " DwellBiasPeakResult(time=2162, peak=1, non_partisan_mean=0.5493227493306123),\n",
       " DwellBiasPeakResult(time=2166, peak=2, non_partisan_mean=0.547791140512279),\n",
       " DwellBiasPeakResult(time=2169, peak=1, non_partisan_mean=0.5496355149267186),\n",
       " DwellBiasPeakResult(time=2176, peak=4, non_partisan_mean=0.5498424127424444),\n",
       " DwellBiasPeakResult(time=2184, peak=5, non_partisan_mean=0.5500717444563468),\n",
       " DwellBiasPeakResult(time=2188, peak=1, non_partisan_mean=0.5493621880687725),\n",
       " DwellBiasPeakResult(time=2198, peak=4, non_partisan_mean=0.5525143141672929),\n",
       " DwellBiasPeakResult(time=2207, peak=7, non_partisan_mean=0.5544544963783206)]"
      ]
     },
     "execution_count": 151,
     "metadata": {},
     "output_type": "execute_result"
    }
   ],
   "source": [
    "dwell_bias_peaks_by_bias[DwellBias.OTHER]"
   ]
  },
  {
   "cell_type": "code",
   "execution_count": 156,
   "metadata": {},
   "outputs": [
    {
     "data": {
      "text/plain": [
       "[10, 1, 27, 5, 6, 5, 1, 1, 2, 2, 2, 7, 1, 2, 1, 4, 5, 1, 4, 7]"
      ]
     },
     "execution_count": 156,
     "metadata": {},
     "output_type": "execute_result"
    }
   ],
   "source": [
    "[result.peak for result in dwell_bias_peaks_by_bias[DwellBias.OTHER]]"
   ]
  },
  {
   "cell_type": "code",
   "execution_count": 130,
   "metadata": {},
   "outputs": [
    {
     "data": {
      "text/plain": [
       "[<matplotlib.lines.Line2D at 0x11b8673d0>]"
      ]
     },
     "execution_count": 130,
     "metadata": {},
     "output_type": "execute_result"
    },
    {
     "data": {
      "image/png": "[encoded data removed]",
      "text/plain": [
       "<Figure size 432x288 with 1 Axes>"
      ]
     },
     "metadata": {
      "needs_background": "light"
     },
     "output_type": "display_data"
    }
   ],
   "source": [
    "plt.plot([mean[-1] for mean in result.non_partisans_mean])"
   ]
  },
  {
   "cell_type": "code",
   "execution_count": null,
   "metadata": {},
   "outputs": [],
   "source": []
  }
 ],
 "metadata": {
  "kernelspec": {
   "display_name": "Python 3.10.2 ('opinion-dynamics')",
   "language": "python",
   "name": "python3"
  },
  "language_info": {
   "codemirror_mode": {
    "name": "ipython",
    "version": 3
   },
   "file_extension": ".py",
   "mimetype": "text/x-python",
   "name": "python",
   "nbconvert_exporter": "python",
   "pygments_lexer": "ipython3",
   "version": "3.10.2"
  },
  "orig_nbformat": 4,
  "vscode": {
   "interpreter": {
    "hash": "83e2574a8f4126795798b90fe748e5b475cf8fbe37c24a00c55648cdd55eef5a"
   }
  }
 },
 "nbformat": 4,
 "nbformat_minor": 2
}
