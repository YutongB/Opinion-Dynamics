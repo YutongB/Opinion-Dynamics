{
 "metadata": {
  "language_info": {
   "codemirror_mode": {
    "name": "ipython",
    "version": 3
   },
   "file_extension": ".py",
   "mimetype": "text/x-python",
   "name": "python",
   "nbconvert_exporter": "python",
   "pygments_lexer": "ipython3",
   "version": "3.9.2"
  },
  "orig_nbformat": 2,
  "kernelspec": {
   "name": "python392jvsc74a57bd01a9420897fcf7eeff027c2ed8ac0dc529239b7a8a4a5185877a85617854bf158",
   "display_name": "Python 3.9.2 64-bit ('gt': conda)"
  }
 },
 "nbformat": 4,
 "nbformat_minor": 2,
 "cells": [
  {
   "cell_type": "code",
   "execution_count": 1,
   "metadata": {},
   "outputs": [],
   "source": [
    "# The import order is important\n",
    "import matplotlib as mpl\n",
    "mpl.use('cairo') \n",
    "%matplotlib inline\n",
    "import matplotlib.pyplot as plt"
   ]
  },
  {
   "cell_type": "code",
   "execution_count": 2,
   "metadata": {},
   "outputs": [],
   "source": [
    "import graph_tool.all as gt\n",
    "import numpy as np\n",
    "from numpy.random import seed, random, randint, uniform\n",
    "import scipy\n",
    "from scipy.stats import norm"
   ]
  },
  {
   "source": [
    "def create_model_graph():\n",
    "    g = gt.Graph(directed=False)\n",
    "    # nodes represent people\n",
    "    # edges represent 'knowing' relationships of people\n",
    "\n",
    "    # friendliness:  # or g.ep.friendliness\n",
    "    #   -1 if people are enemies\n",
    "    #   +1 if people are friends'\n",
    "    g.edge_properties[\"friendliness\"] = g.new_edge_property(\"double\")\n",
    "\n",
    "    # each person has a prior distr, mean and std\n",
    "    # or g.vp.prior_mean and g.vp.prior_sd\n",
    "    g.vertex_properties[\"prior_mean\"] = g.new_vertex_property(\"double\")\n",
    "    g.vertex_properties[\"prior_sd\"] = g.new_vertex_property(\"double\")\n",
    "    g.vertex_properties[\"prior_distr\"] = g.new_vertex_property(\"vector<double>\")\n",
    "\n",
    "    return g"
   ],
   "cell_type": "code",
   "metadata": {},
   "execution_count": 3,
   "outputs": []
  },
  {
   "cell_type": "code",
   "execution_count": 5,
   "metadata": {},
   "outputs": [],
   "source": [
    "def draw_graph(g, show_vertex_labels=False, width=150):\n",
    "\n",
    "    edge_color_map = {-1: (1, 0, 0, 1), 1: (0, 1, 0, 1)}\n",
    "    edge_colors = [edge_color_map[e] for e in g.ep.friendliness]\n",
    "\n",
    "    gt.graph_draw(g, \n",
    "                  vertex_text=g.vertex_index if show_vertex_labels else None,\n",
    "                 # edge_color=edge_colors,\n",
    "                  edge_text=g.ep.friendliness, \n",
    "                  output_size=(width,width))"
   ]
  },
  {
   "cell_type": "code",
   "execution_count": 28,
   "metadata": {},
   "outputs": [],
   "source": [
    "ADJ_FRIEND = 1\n",
    "ADJ_ENEMY = -1\n",
    "\n",
    "def add_relationship(g, v1, v2, friendliness):\n",
    "    e = g.add_edge(v1, v2) # they know each other\n",
    "\n",
    "    g.ep.friendliness[e] = friendliness  # if they like each other\n",
    "\n",
    "def add_friends(g, v1, v2):\n",
    "    add_relationship(g, v1, v2, ADJ_FRIEND)\n",
    "\n",
    "def add_enemies(g, v1, v2):\n",
    "    add_relationship(g, v1, v2, ADJ_ENEMY)"
   ]
  },
  {
   "cell_type": "code",
   "execution_count": 9,
   "metadata": {},
   "outputs": [],
   "source": [
    "def create_pair():\n",
    "    \"\"\"\n",
    "    Creates graph of 2 nodes and one edge.\n",
    "    \"\"\"\n",
    "    g = create_model_graph()\n",
    "\n",
    "    v1 = g.add_vertex()\n",
    "    v2 = g.add_vertex()\n",
    "    e = g.add_edge(v1, v2)\n",
    "\n",
    "    g.ep.adj[e] = ADJ_FRIEND\n",
    "\n",
    "    return g\n",
    "\n",
    "# non-biased - theta = 0.5\n",
    "\n"
   ]
  },
  {
   "cell_type": "code",
   "execution_count": 10,
   "metadata": {},
   "outputs": [
    {
     "output_type": "display_data",
     "data": {
      "image/png": "[encoded data removed]",
      "text/plain": "<IPython.core.display.Image object>"
     },
     "metadata": {
      "image/png": {
       "width": 150,
       "height": 150
      }
     }
    }
   ],
   "source": [
    "g = create_model_graph()\n",
    "\n",
    "v1, v2 = g.add_vertex(2)\n",
    "\n",
    "add_enemies(g, v1, v2)\n",
    "\n",
    "draw_graph(g, show_vertex_labels=True)"
   ]
  },
  {
   "cell_type": "code",
   "execution_count": 11,
   "metadata": {},
   "outputs": [],
   "source": [
    "seed(42)"
   ]
  },
  {
   "cell_type": "code",
   "execution_count": 12,
   "metadata": {},
   "outputs": [],
   "source": [
    "HEADS = 1  # \"success\" is for the coin to land heads\n",
    "TAILS = 0\n",
    "# a Ber(0.5) trial\n",
    "def toss_coin():\n",
    "    return randint(0, 2)\n",
    "\n"
   ]
  },
  {
   "cell_type": "code",
   "execution_count": 13,
   "metadata": {},
   "outputs": [],
   "source": [
    "def bias():\n",
    "    # discretise the continuous variable theta (bias) into 21 regularly-spaced\n",
    "    # values  (0.00, 0.05, ..., 1.00)\n",
    "    return np.linspace(0, 1, 21)\n",
    "\n",
    "def bias_mat(num_priors):\n",
    "    # generate matrix of num_prior rows and \n",
    "    # 21 columns (bias() for each row of the matrix)\n",
    "    return np.tile(bias(), (num_priors, 1))\n",
    "\n",
    "def fwhm_to_sd(fwhm):\n",
    "    # full width half mean\n",
    "    # 2 * sqrt(2 * ln(2))  (see wiki) (don't calculate sqrt or ln)\n",
    "    return fwhm / 2.3548200450309493820231386529\n",
    "\n",
    "def generate_priors(num_priors, mean_range=(0.0, 1.0), fwhm_range=(0.2, 0.8)):\n",
    "    prior_mean = uniform(*mean_range, num_priors)\n",
    "    prior_fwhm = uniform(*fwhm_range, num_priors)\n",
    "    prior_sd = fwhm_to_sd(prior_fwhm)\n",
    "\n",
    "    return prior_mean, prior_sd\n",
    "\n",
    "def prior_distr(prior_mean, prior_sd):\n",
    "    return norm.pdf(bias(), loc=prior_mean, scale=prior_sd)\n",
    "\n",
    "def prior_distr_vec(num_priors, prior_mean, prior_sd):\n",
    "    # ensure norm.pdf behaves (broadcasting - scipy)\n",
    "    prior_mean.shape = prior_sd.shape = (num_priors, 1)\n",
    "    return norm.pdf(bias_mat(num_priors), loc=prior_mean, scale=prior_sd)\n"
   ]
  },
  {
   "cell_type": "code",
   "execution_count": 14,
   "metadata": {},
   "outputs": [],
   "source": [
    "def run_simulation(g, max_steps=1e4):\n",
    "    \"\"\"\n",
    "    max_steps (T in the paper) - maximum number of steps to run the simulation\n",
    "    \"\"\"\n",
    "    # steps 2-3 of Probabilistic automaton, until t = T\n",
    "    for t in range(max_steps):\n",
    "        step_simulation(g)\n",
    "\n"
   ]
  },
  {
   "cell_type": "code",
   "execution_count": 15,
   "metadata": {},
   "outputs": [],
   "source": [
    "def likelihood_fn(state, bias):\n",
    "    \"\"\"\n",
    "    state: coin toss value (TODO generalise)\n",
    "    bias: θ, the value for the bias\n",
    "    The likelihood encodes the probability of observing a heads, given θ\n",
    "    \"\"\"\n",
    "    if state == 0:\n",
    "        return bias\n",
    "    return 1 - bias"
   ]
  },
  {
   "cell_type": "code",
   "execution_count": 16,
   "metadata": {},
   "outputs": [],
   "source": [
    "def coin_toss_likelihood():\n",
    "    \"\"\"\n",
    "    coin toss likelihood - encodes the probability of observing a heads, given bias θ\n",
    "    only 2 possible outcomes in a coin toss:\n",
    "    row 0 (tails) : 1 - θ\n",
    "    row 1 (heads) : θ \n",
    "    \"\"\"\n",
    "    return np.array((1 - bias(), bias()))"
   ]
  },
  {
   "cell_type": "code",
   "execution_count": 17,
   "metadata": {},
   "outputs": [],
   "source": [
    "def normalising_constant_i(likelihood, prior_distr):\n",
    "    \"\"\"\n",
    "    sum_θ{  P(S(T) | θ) * x_i (t, θ)    }\n",
    "    \"\"\"\n",
    "    return np.sum(likelihood * prior_distr, axis=1)\n"
   ]
  },
  {
   "cell_type": "code",
   "execution_count": 18,
   "metadata": {},
   "outputs": [],
   "source": [
    "def normalising_constant(likelihood, graph_prior_distr):\n",
    "    \"\"\"\n",
    "    value i is normalising constant for node / person i\n",
    "    sum_θ{  P(S(T) | θ) * x_i (t, θ) }\n",
    "    \"\"\"\n",
    "    # for 1 person\n",
    "    if len(graph_prior_distr.shape) == 1:\n",
    "        return np.sum(np.matmul(likelihood, graph_prior_distr))\n",
    "\n",
    "    # ensure the prior distribution has the right shape\n",
    "    if likelihood.shape[1] == graph_prior_distr.shape[1]:\n",
    "        graph_prior_distr = graph_prior_distr.T\n",
    "    return np.sum(np.matmul(likelihood, graph_prior_distr), axis=1)"
   ]
  },
  {
   "cell_type": "code",
   "execution_count": 19,
   "metadata": {},
   "outputs": [],
   "source": [
    "def debug_state(g):\n",
    "    verts = g.iter_vertices([g.vp.prior_mean, g.vp.prior_sd, g.vp.prior_distr])\n",
    "    for v, prior_mean, prior_sd, prior_distr in verts:\n",
    "        print(v, prior_mean, prior_sd, prior_distr)\n",
    "\n",
    "    plot_distr(g)\n",
    "\n",
    "def plot_distr(distr, title=None):\n",
    "    fig, ax = plt.subplots()\n",
    "\n",
    "    for v, d in enumerate(distr):\n",
    "        ax.plot(bias(), d, label=str(v))\n",
    "\n",
    "    ax.set_xlabel(r'Bias, $\\theta$')\n",
    "    ax.set_ylabel('Probability')\n",
    "\n",
    "    ax.grid(linestyle='--', axis='x')\n",
    "    ax.set_title(title)\n",
    "    # plt.tick_params(axis='y', which='both', left=False, right=False, top=False, bottom=False, labelleft=False)\n",
    "    plt.tight_layout()\n",
    "\n",
    "def plot_graph_distr(g):\n",
    "    fig, ax = plt.subplots()\n",
    "\n",
    "    for v, distr in g.iter_vertices([g.vp.prior_distr]):\n",
    "        ax.plot(bias(), distr, label=str(v))\n",
    "\n",
    "    ax.set_xlabel(r'Bias, $\\theta$')\n",
    "    ax.set_ylabel('Probability')\n",
    "\n",
    "    ax.grid(linestyle='--', axis='x')\n",
    "    # plt.tick_params(axis='y', which='both', left=False, right=False, top=False, bottom=False, labelleft=False)\n",
    "    plt.tight_layout()\n"
   ]
  },
  {
   "cell_type": "code",
   "execution_count": 20,
   "metadata": {},
   "outputs": [],
   "source": [
    "def graph_get_prior_distr(g):\n",
    "    \"\"\"\n",
    "    Returns matrix: \n",
    "        row i corresponding to the prior distribution for person i, x_i(t, θ)\n",
    "        col j corresponding to the prior distribution evaluated at θ = 0.05 * j\n",
    "    \"\"\"\n",
    "    return g.vp.prior_distr.get_2d_array(np.arange(21)).T"
   ]
  },
  {
   "cell_type": "code",
   "execution_count": 21,
   "metadata": {},
   "outputs": [],
   "source": [
    "def init_simulation(g, prior_mean=None, prior_sd=None): # mean_range=(0.0, 1.0), fwhm_range=(0.2, 0.8)\n",
    "    n = g.num_vertices(ignore_filter=True)\n",
    "\n",
    "    # randomly generate prior and prior sd if no args given\n",
    "    if prior_mean is None or prior_sd is None:\n",
    "        prior_mean, prior_sd = generate_priors(n)\n",
    "        print(prior_mean, prior_sd)\n",
    "    \n",
    "    # equivalent to g.vp.prior_mean.get_array()[:]\n",
    "    g.vp.prior_mean.a = prior_mean\n",
    "    g.vp.prior_sd.a = prior_sd\n",
    "\n",
    "    # transpose is O(1) !!!\n",
    "    distr = prior_distr_vec(n, prior_mean, prior_sd).T\n",
    "    # required for indirect array access of vector\n",
    "    g.vp.prior_distr.set_2d_array(distr)\n",
    "    \n",
    "    # print(g.vp.prior_distr.get_2d_array(np.arange(21)).T)\n",
    "    \"\"\"\n",
    "    #  iteration might be slow for enumeration\n",
    "    for v in g.iter_vertices():\n",
    "        g.vp.prior_distr.a = distr[v]\n",
    "    \"\"\"\n",
    "    "
   ]
  },
  {
   "cell_type": "code",
   "execution_count": 22,
   "metadata": {},
   "outputs": [],
   "source": [
    "def step_simulation(g, true_bias=0.5, learning_rate=0.25):\n",
    "    \"\"\"\n",
    "    true_bias (θ_0 in the paper)\n",
    "    learning_rate (μ / μ_i in the paper)\n",
    "    TODO later: learning_rate can be a vector, length # nodes\n",
    "        sets a learning rate for each person in the graph.\n",
    "    \"\"\"\n",
    "    ## simulate an independent coin toss\n",
    "    toss = toss_coin()\n",
    "\n",
    "    ## update the opinions of each agent according to Bayes' Theorem (observe coin toss)\n",
    "    prior_distr = graph_get_prior_distr(g)\n",
    "    norm_const = normalising_constant(coin_toss_likelihood(), prior_distr)\n",
    "    likelihood = coin_toss_likelihood()[toss]    # (eqn 2)\n",
    "    # Fix some broadcasting issue https://stackoverflow.com/questions/19602187/numpy-divide-each-row-by-a-vector-element\n",
    "    posterior_distr = likelihood * prior_distr / norm_const[:,None]  # (eqn 1)\n",
    "    # Rows: node i's posterior distribution.  Cols: posterior distr evaluated at theta\n",
    "\n",
    "    ## Mix the opinions of each node with respective neighbours (eq 3,4)\n",
    "    avg_dist_in_belief = avg_dist_in_belief(g, posterior_distr)\n",
    "\n",
    "    next_dist = posterior_distr + avg_dist_in_belief * learning_rate\n",
    "\n",
    "    # TODO: use np.amax to find max\n",
    "    # TODO: calculate proportionality constant by eqn 3\n"
   ]
  },
  {
   "cell_type": "code",
   "execution_count": 23,
   "metadata": {},
   "outputs": [],
   "source": [
    "init_simulation(g, np.array((0.25, 0.75)), np.array([fwhm_to_sd(0.4)] * 2))"
   ]
  },
  {
   "source": [
    "def friendliness_mat(g):\n",
    "    # get the friendliness matrix \n",
    "    # (graph_tool internally uses an adjacency list representation, \n",
    "    #  need to convert the weight list to a weight matrix; \n",
    "    #  rows / cols being neighbouring nodes)\n",
    "    # laplacian doc: https://graph-tool.skewed.de/static/doc/spectral.html#graph_tool.spectral.laplacian\n",
    "    friendliness = -gt.laplacian(g, weight=g.ep.friendliness).toarray()\n",
    "    np.fill_diagonal(friendliness, 0) # diagonals of laplacian are some 'gamma'\n",
    "    return friendliness"
   ],
   "cell_type": "code",
   "metadata": {},
   "execution_count": 24,
   "outputs": []
  },
  {
   "cell_type": "code",
   "execution_count": 25,
   "metadata": {},
   "outputs": [],
   "source": [
    "def avg_dist_in_belief(g, posterior):\n",
    "    n = g.num_vertices(ignore_filter=True)\n",
    "\n",
    "    friendliness = friendliness_mat(g)\n",
    "\n",
    "    xi = np.broadcast_to(posterior_distr, (n, n, 21)).transpose((1, 0, 2))\n",
    "    xj = np.broadcast_to(posterior_distr, (n, n, 21))\n",
    "    # calculate the difference in belief for node i to node j\n",
    "    diff_in_belief = ((xj - xi).T * friendliness).T\n",
    "    summation = np.sum(diff_in_belief, axis=1)\n",
    "\n",
    "    # sums over the columns\n",
    "    divisor = np.reciprocal(np.sum(np.abs(friendliness), axis=1))\n",
    "\n",
    "    # the .T stuff fixes some broadcasting issue  (same above too!)\n",
    "    avg_dist_in_belief = (summation.T * divisor).T\n",
    "    return avg_dist_in_belief"
   ]
  },
  {
   "cell_type": "code",
   "execution_count": 26,
   "metadata": {},
   "outputs": [
    {
     "output_type": "error",
     "ename": "NameError",
     "evalue": "name 'posterior_distr' is not defined",
     "traceback": [
      "\u001b[0;31m---------------------------------------------------------------------------\u001b[0m",
      "\u001b[0;31mNameError\u001b[0m                                 Traceback (most recent call last)",
      "\u001b[0;32m<ipython-input-26-ca7174ee00e1>\u001b[0m in \u001b[0;36m<module>\u001b[0;34m\u001b[0m\n\u001b[1;32m      1\u001b[0m \u001b[0;31m# OLD VERSION!\u001b[0m\u001b[0;34m\u001b[0m\u001b[0;34m\u001b[0m\u001b[0;34m\u001b[0m\u001b[0m\n\u001b[1;32m      2\u001b[0m \u001b[0madj\u001b[0m \u001b[0;34m=\u001b[0m \u001b[0mgt\u001b[0m\u001b[0;34m.\u001b[0m\u001b[0madjacency\u001b[0m\u001b[0;34m(\u001b[0m\u001b[0mg\u001b[0m\u001b[0;34m)\u001b[0m\u001b[0;34m.\u001b[0m\u001b[0mtodense\u001b[0m\u001b[0;34m(\u001b[0m\u001b[0;34m)\u001b[0m\u001b[0;34m\u001b[0m\u001b[0;34m\u001b[0m\u001b[0m\n\u001b[0;32m----> 3\u001b[0;31m \u001b[0mxj\u001b[0m \u001b[0;34m=\u001b[0m \u001b[0mnp\u001b[0m\u001b[0;34m.\u001b[0m\u001b[0mmatmul\u001b[0m\u001b[0;34m(\u001b[0m\u001b[0madj\u001b[0m\u001b[0;34m,\u001b[0m \u001b[0mposterior_distr\u001b[0m\u001b[0;34m)\u001b[0m\u001b[0;34m\u001b[0m\u001b[0;34m\u001b[0m\u001b[0m\n\u001b[0m\u001b[1;32m      4\u001b[0m \u001b[0mxi\u001b[0m \u001b[0;34m=\u001b[0m \u001b[0mposterior_distr\u001b[0m\u001b[0;34m\u001b[0m\u001b[0;34m\u001b[0m\u001b[0m\n\u001b[1;32m      5\u001b[0m \u001b[0mdiff_in_belief\u001b[0m \u001b[0;34m=\u001b[0m \u001b[0mxj\u001b[0m \u001b[0;34m-\u001b[0m \u001b[0mxi\u001b[0m\u001b[0;34m\u001b[0m\u001b[0;34m\u001b[0m\u001b[0m\n",
      "\u001b[0;31mNameError\u001b[0m: name 'posterior_distr' is not defined"
     ]
    }
   ],
   "source": [
    "# OLD VERSION!\n",
    "adj = gt.adjacency(g).todense()\n",
    "xj = np.matmul(adj, posterior_distr)\n",
    "xi = posterior_distr\n",
    "diff_in_belief = xj - xi\n",
    "diff_in_belief = np.broadcast_to(interactions, (n, n, 21))\n",
    "\n",
    "friendliness = -gt.laplacian(g, weight=g.ep.friendliness).toarray()\n",
    "np.fill_diagonal(friendliness, 0) # diagonals of laplacian are some 'gamma'\n",
    "\n",
    "# sums over the columns\n",
    "divisor = np.reciprocal(np.sum(np.abs(friendliness), axis=1))\n",
    "\n",
    "# don't know how else to do this one, it would be nice if we didn't need\n",
    "# to do this (particularly the [0] at the end!)\n",
    "avg_dist_in_belief = np.tensordot(friendliness, interactions, axes=1)[0] * divisor\n"
   ]
  },
  {
   "cell_type": "code",
   "execution_count": 451,
   "metadata": {},
   "outputs": [
    {
     "output_type": "execute_result",
     "data": {
      "text/plain": [
       "array([[-6.67618732e-04, -8.13365332e-07,  8.33944117e-02,\n",
       "         9.76908806e-02,  1.04400396e-01,  1.01498975e-01,\n",
       "         8.92073779e-02,  6.98141085e-02,  4.67205163e-02,\n",
       "         2.32968656e-02,  2.14908355e-03, -1.50036460e-02,\n",
       "        -2.71006246e-02, -3.35781041e-02, -3.44706453e-02,\n",
       "        -3.06174679e-02, -2.36552566e-02, -1.56345341e-02,\n",
       "        -8.40557284e-03, -3.10533038e-03, -0.00000000e+00],\n",
       "       [ 6.67618732e-04,  8.13365332e-07, -8.33944117e-02,\n",
       "        -9.76908806e-02, -1.04400396e-01, -1.01498975e-01,\n",
       "        -8.92073779e-02, -6.98141085e-02, -4.67205163e-02,\n",
       "        -2.32968656e-02, -2.14908355e-03,  1.50036460e-02,\n",
       "         2.71006246e-02,  3.35781041e-02,  3.44706453e-02,\n",
       "         3.06174679e-02,  2.36552566e-02,  1.56345341e-02,\n",
       "         8.40557284e-03,  3.10533038e-03, -0.00000000e+00]])"
      ]
     },
     "metadata": {},
     "execution_count": 451
    }
   ],
   "source": [
    "# TEST VERSION!\n",
    "i = 1\n",
    "j = 0\n",
    "del_x1 = -(posterior_distr[j] - posterior_distr[i])\n",
    "del_x0 = -(posterior_distr[i] - posterior_distr[j])\n",
    "res = np.array([del_x0, del_x1])\n",
    "res"
   ]
  },
  {
   "cell_type": "code",
   "execution_count": 27,
   "metadata": {},
   "outputs": [
    {
     "output_type": "error",
     "ename": "NameError",
     "evalue": "name 'posterior_distr' is not defined",
     "traceback": [
      "\u001b[0;31m---------------------------------------------------------------------------\u001b[0m",
      "\u001b[0;31mNameError\u001b[0m                                 Traceback (most recent call last)",
      "\u001b[0;32m<ipython-input-27-2d79d43c2b99>\u001b[0m in \u001b[0;36m<module>\u001b[0;34m\u001b[0m\n\u001b[0;32m----> 1\u001b[0;31m \u001b[0mplot_distr\u001b[0m\u001b[0;34m(\u001b[0m\u001b[0mposterior_distr\u001b[0m\u001b[0;34m,\u001b[0m \u001b[0mtitle\u001b[0m\u001b[0;34m=\u001b[0m\u001b[0;34m\"Posterior distr\"\u001b[0m\u001b[0;34m)\u001b[0m\u001b[0;34m\u001b[0m\u001b[0;34m\u001b[0m\u001b[0m\n\u001b[0m",
      "\u001b[0;31mNameError\u001b[0m: name 'posterior_distr' is not defined"
     ]
    }
   ],
   "source": [
    "plot_distr(posterior_distr, title=\"Posterior distr\")"
   ]
  },
  {
   "cell_type": "code",
   "execution_count": 107,
   "metadata": {},
   "outputs": [
    {
     "output_type": "execute_result",
     "data": {
      "text/plain": [
       "array([7.24073088e-06, 2.41614436e-05, 7.37275667e-05, 2.05667508e-04,\n",
       "       5.24284919e-04, 1.22078873e-03, 2.59507795e-03, 5.03280489e-03,\n",
       "       8.89741011e-03, 1.43239211e-02, 2.09713967e-02, 2.78739963e-02,\n",
       "       3.35542348e-02, 3.64608900e-02, 3.55896404e-02, 3.09711070e-02,\n",
       "       2.37264270e-02, 1.56260957e-02, 8.38855870e-03, 3.09711070e-03,\n",
       "       0.00000000e+00])"
      ]
     },
     "metadata": {},
     "execution_count": 107
    }
   ],
   "source": [
    "posterior_distr[1]"
   ]
  },
  {
   "cell_type": "code",
   "execution_count": 200,
   "metadata": {},
   "outputs": [
    {
     "output_type": "execute_result",
     "data": {
      "text/plain": [
       "(2, 21)"
      ]
     },
     "metadata": {},
     "execution_count": 200
    }
   ],
   "source": [
    "posterior_distr.shape"
   ]
  },
  {
   "cell_type": "code",
   "execution_count": 81,
   "metadata": {},
   "outputs": [
    {
     "output_type": "execute_result",
     "data": {
      "text/plain": [
       "array([[[0., 0., 0., 0., 0., 0., 0., 0., 0., 0., 0., 0., 0., 0., 0., 0.,\n",
       "         0., 0., 0., 0., 0.],\n",
       "        [0., 0., 0., 0., 0., 0., 0., 0., 0., 0., 0., 0., 0., 0., 0., 0.,\n",
       "         0., 0., 0., 0., 0.]],\n",
       "\n",
       "       [[0., 0., 0., 0., 0., 0., 0., 0., 0., 0., 0., 0., 0., 0., 0., 0.,\n",
       "         0., 0., 0., 0., 0.],\n",
       "        [0., 0., 0., 0., 0., 0., 0., 0., 0., 0., 0., 0., 0., 0., 0., 0.,\n",
       "         0., 0., 0., 0., 0.]]])"
      ]
     },
     "metadata": {},
     "execution_count": 81
    }
   ],
   "source": [
    "np.broadcast_to(posterior_distr, (2, 2, 21)) - posterior_distr"
   ]
  },
  {
   "cell_type": "code",
   "execution_count": 82,
   "metadata": {},
   "outputs": [
    {
     "output_type": "execute_result",
     "data": {
      "text/plain": [
       "(2, 21)"
      ]
     },
     "metadata": {},
     "execution_count": 82
    }
   ],
   "source": [
    "posterior_distr.shape"
   ]
  },
  {
   "cell_type": "code",
   "execution_count": 108,
   "metadata": {},
   "outputs": [
    {
     "output_type": "execute_result",
     "data": {
      "text/plain": [
       "array([[4.19427935e-02, 5.88451034e-02, 7.54970283e-02, 8.85478758e-02,\n",
       "        9.49057078e-02, 9.29133211e-02, 8.30424944e-02, 6.77130815e-02,\n",
       "        5.03313522e-02, 3.40682177e-02, 2.09713967e-02, 1.17195718e-02,\n",
       "        5.93160674e-03, 2.70997186e-03, 1.11217626e-03, 4.06929576e-04,\n",
       "        1.31071230e-04, 3.62942660e-05, 8.19195185e-06, 1.27165493e-06,\n",
       "        0.00000000e+00],\n",
       "       [7.24073088e-06, 2.41614436e-05, 7.37275667e-05, 2.05667508e-04,\n",
       "        5.24284919e-04, 1.22078873e-03, 2.59507795e-03, 5.03280489e-03,\n",
       "        8.89741011e-03, 1.43239211e-02, 2.09713967e-02, 2.78739963e-02,\n",
       "        3.35542348e-02, 3.64608900e-02, 3.55896404e-02, 3.09711070e-02,\n",
       "        2.37264270e-02, 1.56260957e-02, 8.38855870e-03, 3.09711070e-03,\n",
       "        0.00000000e+00]])"
      ]
     },
     "metadata": {},
     "execution_count": 108
    }
   ],
   "source": [
    "posterior_distr"
   ]
  },
  {
   "cell_type": "code",
   "execution_count": 83,
   "metadata": {},
   "outputs": [
    {
     "output_type": "execute_result",
     "data": {
      "text/plain": [
       "[array([[ 0.00000000e+00,  0.00000000e+00,  0.00000000e+00,\n",
       "          0.00000000e+00,  0.00000000e+00,  0.00000000e+00,\n",
       "          0.00000000e+00,  0.00000000e+00,  0.00000000e+00,\n",
       "          0.00000000e+00,  0.00000000e+00,  0.00000000e+00,\n",
       "          0.00000000e+00,  0.00000000e+00,  0.00000000e+00,\n",
       "          0.00000000e+00,  0.00000000e+00,  0.00000000e+00,\n",
       "          0.00000000e+00,  0.00000000e+00,  0.00000000e+00],\n",
       "        [ 0.00000000e+00, -3.09583905e-03, -8.38036675e-03,\n",
       "         -1.55898015e-02, -2.35953557e-02, -3.05641775e-02,\n",
       "         -3.44774642e-02, -3.37509182e-02, -2.76226281e-02,\n",
       "         -1.61544245e-02, -6.93889390e-18,  1.97442966e-02,\n",
       "          4.14339421e-02,  6.26802766e-02,  8.04474164e-02,\n",
       "          9.16925324e-02,  9.43814229e-02,  8.83422083e-02,\n",
       "          7.54233007e-02,  5.88209419e-02,  4.19355528e-02]]),\n",
       " array([[ 0.00000000e+00,  3.09583905e-03,  8.38036675e-03,\n",
       "          1.55898015e-02,  2.35953557e-02,  3.05641775e-02,\n",
       "          3.44774642e-02,  3.37509182e-02,  2.76226281e-02,\n",
       "          1.61544245e-02,  6.93889390e-18, -1.97442966e-02,\n",
       "         -4.14339421e-02, -6.26802766e-02, -8.04474164e-02,\n",
       "         -9.16925324e-02, -9.43814229e-02, -8.83422083e-02,\n",
       "         -7.54233007e-02, -5.88209419e-02, -4.19355528e-02],\n",
       "        [ 0.00000000e+00,  0.00000000e+00,  0.00000000e+00,\n",
       "          0.00000000e+00,  0.00000000e+00,  0.00000000e+00,\n",
       "          0.00000000e+00,  0.00000000e+00,  0.00000000e+00,\n",
       "          0.00000000e+00,  0.00000000e+00,  0.00000000e+00,\n",
       "          0.00000000e+00,  0.00000000e+00,  0.00000000e+00,\n",
       "          0.00000000e+00,  0.00000000e+00,  0.00000000e+00,\n",
       "          0.00000000e+00,  0.00000000e+00,  0.00000000e+00]])]"
      ]
     },
     "metadata": {},
     "execution_count": 83
    }
   ],
   "source": [
    "[posterior_distr - posterior_distr[0], posterior_distr - posterior_distr[1]]"
   ]
  },
  {
   "cell_type": "code",
   "execution_count": 399,
   "metadata": {},
   "outputs": [],
   "source": []
  },
  {
   "cell_type": "code",
   "execution_count": 68,
   "metadata": {},
   "outputs": [
    {
     "output_type": "error",
     "ename": "TypeError",
     "evalue": "'Graph' object is not iterable",
     "traceback": [
      "\u001b[0;31m---------------------------------------------------------------------------\u001b[0m",
      "\u001b[0;31mTypeError\u001b[0m                                 Traceback (most recent call last)",
      "\u001b[0;32m<ipython-input-68-366c049520f8>\u001b[0m in \u001b[0;36m<module>\u001b[0;34m\u001b[0m\n\u001b[0;32m----> 1\u001b[0;31m \u001b[0mplot_distr\u001b[0m\u001b[0;34m(\u001b[0m\u001b[0mg\u001b[0m\u001b[0;34m)\u001b[0m\u001b[0;34m\u001b[0m\u001b[0;34m\u001b[0m\u001b[0m\n\u001b[0m",
      "\u001b[0;32m<ipython-input-60-fe4a352d9315>\u001b[0m in \u001b[0;36mplot_distr\u001b[0;34m(distr, title)\u001b[0m\n\u001b[1;32m      9\u001b[0m     \u001b[0mfig\u001b[0m\u001b[0;34m,\u001b[0m \u001b[0max\u001b[0m \u001b[0;34m=\u001b[0m \u001b[0mplt\u001b[0m\u001b[0;34m.\u001b[0m\u001b[0msubplots\u001b[0m\u001b[0;34m(\u001b[0m\u001b[0;34m)\u001b[0m\u001b[0;34m\u001b[0m\u001b[0;34m\u001b[0m\u001b[0m\n\u001b[1;32m     10\u001b[0m \u001b[0;34m\u001b[0m\u001b[0m\n\u001b[0;32m---> 11\u001b[0;31m     \u001b[0;32mfor\u001b[0m \u001b[0mv\u001b[0m\u001b[0;34m,\u001b[0m \u001b[0md\u001b[0m \u001b[0;32min\u001b[0m \u001b[0menumerate\u001b[0m\u001b[0;34m(\u001b[0m\u001b[0mdistr\u001b[0m\u001b[0;34m)\u001b[0m\u001b[0;34m:\u001b[0m\u001b[0;34m\u001b[0m\u001b[0;34m\u001b[0m\u001b[0m\n\u001b[0m\u001b[1;32m     12\u001b[0m         \u001b[0max\u001b[0m\u001b[0;34m.\u001b[0m\u001b[0mplot\u001b[0m\u001b[0;34m(\u001b[0m\u001b[0mbias\u001b[0m\u001b[0;34m(\u001b[0m\u001b[0;34m)\u001b[0m\u001b[0;34m,\u001b[0m \u001b[0md\u001b[0m\u001b[0;34m,\u001b[0m \u001b[0mlabel\u001b[0m\u001b[0;34m=\u001b[0m\u001b[0mstr\u001b[0m\u001b[0;34m(\u001b[0m\u001b[0mv\u001b[0m\u001b[0;34m)\u001b[0m\u001b[0;34m)\u001b[0m\u001b[0;34m\u001b[0m\u001b[0;34m\u001b[0m\u001b[0m\n\u001b[1;32m     13\u001b[0m \u001b[0;34m\u001b[0m\u001b[0m\n",
      "\u001b[0;31mTypeError\u001b[0m: 'Graph' object is not iterable"
     ]
    }
   ],
   "source": [
    "plot_distr(g)"
   ]
  },
  {
   "cell_type": "code",
   "execution_count": 69,
   "metadata": {},
   "outputs": [
    {
     "output_type": "stream",
     "name": "stdout",
     "text": [
      "0 0.25 0.16986436005760383 array([7.95148841e-01, 1.17429660e+00, 1.59029768e+00, 1.97492360e+00,\n       2.24902055e+00, 2.34859320e+00, 2.24902055e+00, 1.97492360e+00,\n       1.59029768e+00, 1.17429660e+00, 7.95148841e-01, 4.93730900e-01,\n       2.81127569e-01, 1.46787075e-01, 7.02818922e-02, 3.08581813e-02,\n       1.24242006e-02, 4.58709609e-03, 1.55302508e-03, 4.82159082e-04,\n       1.37269321e-04])\n1 0.75 0.16986436005760383 array([1.37269321e-04, 4.82159082e-04, 1.55302508e-03, 4.58709609e-03,\n       1.24242006e-02, 3.08581813e-02, 7.02818922e-02, 1.46787075e-01,\n       2.81127569e-01, 4.93730900e-01, 7.95148841e-01, 1.17429660e+00,\n       1.59029768e+00, 1.97492360e+00, 2.24902055e+00, 2.34859320e+00,\n       2.24902055e+00, 1.97492360e+00, 1.59029768e+00, 1.17429660e+00,\n       7.95148841e-01])\n"
     ]
    },
    {
     "output_type": "error",
     "ename": "TypeError",
     "evalue": "'Graph' object is not iterable",
     "traceback": [
      "\u001b[0;31m---------------------------------------------------------------------------\u001b[0m",
      "\u001b[0;31mTypeError\u001b[0m                                 Traceback (most recent call last)",
      "\u001b[0;32m<ipython-input-69-c217462bf5c8>\u001b[0m in \u001b[0;36m<module>\u001b[0;34m\u001b[0m\n\u001b[0;32m----> 1\u001b[0;31m \u001b[0mdebug_state\u001b[0m\u001b[0;34m(\u001b[0m\u001b[0mg\u001b[0m\u001b[0;34m)\u001b[0m\u001b[0;34m\u001b[0m\u001b[0;34m\u001b[0m\u001b[0m\n\u001b[0m",
      "\u001b[0;32m<ipython-input-60-fe4a352d9315>\u001b[0m in \u001b[0;36mdebug_state\u001b[0;34m(g)\u001b[0m\n\u001b[1;32m      4\u001b[0m         \u001b[0mprint\u001b[0m\u001b[0;34m(\u001b[0m\u001b[0mv\u001b[0m\u001b[0;34m,\u001b[0m \u001b[0mprior_mean\u001b[0m\u001b[0;34m,\u001b[0m \u001b[0mprior_sd\u001b[0m\u001b[0;34m,\u001b[0m \u001b[0mprior_distr\u001b[0m\u001b[0;34m)\u001b[0m\u001b[0;34m\u001b[0m\u001b[0;34m\u001b[0m\u001b[0m\n\u001b[1;32m      5\u001b[0m \u001b[0;34m\u001b[0m\u001b[0m\n\u001b[0;32m----> 6\u001b[0;31m     \u001b[0mplot_distr\u001b[0m\u001b[0;34m(\u001b[0m\u001b[0mg\u001b[0m\u001b[0;34m)\u001b[0m\u001b[0;34m\u001b[0m\u001b[0;34m\u001b[0m\u001b[0m\n\u001b[0m\u001b[1;32m      7\u001b[0m \u001b[0;34m\u001b[0m\u001b[0m\n\u001b[1;32m      8\u001b[0m \u001b[0;32mdef\u001b[0m \u001b[0mplot_distr\u001b[0m\u001b[0;34m(\u001b[0m\u001b[0mdistr\u001b[0m\u001b[0;34m,\u001b[0m \u001b[0mtitle\u001b[0m\u001b[0;34m=\u001b[0m\u001b[0;32mNone\u001b[0m\u001b[0;34m)\u001b[0m\u001b[0;34m:\u001b[0m\u001b[0;34m\u001b[0m\u001b[0;34m\u001b[0m\u001b[0m\n",
      "\u001b[0;32m<ipython-input-60-fe4a352d9315>\u001b[0m in \u001b[0;36mplot_distr\u001b[0;34m(distr, title)\u001b[0m\n\u001b[1;32m      9\u001b[0m     \u001b[0mfig\u001b[0m\u001b[0;34m,\u001b[0m \u001b[0max\u001b[0m \u001b[0;34m=\u001b[0m \u001b[0mplt\u001b[0m\u001b[0;34m.\u001b[0m\u001b[0msubplots\u001b[0m\u001b[0;34m(\u001b[0m\u001b[0;34m)\u001b[0m\u001b[0;34m\u001b[0m\u001b[0;34m\u001b[0m\u001b[0m\n\u001b[1;32m     10\u001b[0m \u001b[0;34m\u001b[0m\u001b[0m\n\u001b[0;32m---> 11\u001b[0;31m     \u001b[0;32mfor\u001b[0m \u001b[0mv\u001b[0m\u001b[0;34m,\u001b[0m \u001b[0md\u001b[0m \u001b[0;32min\u001b[0m \u001b[0menumerate\u001b[0m\u001b[0;34m(\u001b[0m\u001b[0mdistr\u001b[0m\u001b[0;34m)\u001b[0m\u001b[0;34m:\u001b[0m\u001b[0;34m\u001b[0m\u001b[0;34m\u001b[0m\u001b[0m\n\u001b[0m\u001b[1;32m     12\u001b[0m         \u001b[0max\u001b[0m\u001b[0;34m.\u001b[0m\u001b[0mplot\u001b[0m\u001b[0;34m(\u001b[0m\u001b[0mbias\u001b[0m\u001b[0;34m(\u001b[0m\u001b[0;34m)\u001b[0m\u001b[0;34m,\u001b[0m \u001b[0md\u001b[0m\u001b[0;34m,\u001b[0m \u001b[0mlabel\u001b[0m\u001b[0;34m=\u001b[0m\u001b[0mstr\u001b[0m\u001b[0;34m(\u001b[0m\u001b[0mv\u001b[0m\u001b[0;34m)\u001b[0m\u001b[0;34m)\u001b[0m\u001b[0;34m\u001b[0m\u001b[0;34m\u001b[0m\u001b[0m\n\u001b[1;32m     13\u001b[0m \u001b[0;34m\u001b[0m\u001b[0m\n",
      "\u001b[0;31mTypeError\u001b[0m: 'Graph' object is not iterable"
     ]
    }
   ],
   "source": [
    "debug_state(g)"
   ]
  },
  {
   "cell_type": "code",
   "execution_count": null,
   "metadata": {},
   "outputs": [],
   "source": []
  }
 ]
}