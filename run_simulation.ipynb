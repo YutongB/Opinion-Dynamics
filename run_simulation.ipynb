{
 "cells": [
  {
   "cell_type": "code",
   "execution_count": null,
   "id": "c98b257c",
   "metadata": {},
   "outputs": [],
   "source": [
    "from numba import njit, prange\n",
    "import numpy as np\n",
    "import scipy as sp\n",
    "import timeit\n",
    "import os, sys\n",
    "import pandas as pd\n",
    "import matplotlib.pyplot as plt\n",
    "import networkx as nx\n",
    "from generate_graph import visualise_graph\n",
    "import itertools\n",
    "from read_graph import read_coin_observations, recreate_graph\n",
    "from scipy.optimize import curve_fit\n",
    "from scipy import stats\n",
    "from dynamic import list_of_edges, modify_edge_weight\n",
    "from simulation_numba import *\n",
    "from simulation import *"
   ]
  },
  {
   "cell_type": "code",
   "execution_count": null,
   "id": "e3597ffb",
   "metadata": {},
   "outputs": [],
   "source": [
    "#value settings:\n",
    "num_runs = 1000\n",
    "num_iter = 10000\n",
    "num_node = 3\n",
    "fraction = np.arange(0.01, 0.15, 0.02)\n",
    "simple_edge = True\n",
    "mod_prob = True\n",
    "include_zero = False\n",
    "\n",
    "edge_list = list_of_edges(num_node)\n",
    "\n",
    "print(edge_list[0])\n",
    "\n",
    "try:\n",
    "    overall_output = open('N{}_test_results/overall_output.dat'.format(num_node), 'a') #File contains (in columns) F, total number of runs, avg asymptotic time, median asymptotic time, number of eliminated runs, percentage eliminated\n",
    "except:\n",
    "    os.mkdir('N3_test_results')\n",
    "    overall_output = open('N{}_test_results/overall_output.dat'.format(num_node), 'a') #File contains (in columns) F, total number of runs, avg asymptotic time, median asymptotic time, number of eliminated runs, percentage eliminated\n"
   ]
  },
  {
   "cell_type": "code",
   "execution_count": null,
   "id": "2ad86210",
   "metadata": {},
   "outputs": [],
   "source": [
    "for frac in fraction:\n",
    "    runs = 0\n",
    "\n",
    "    file = open(f'N{num_node}_test_results/F{frac:.4f}.dat', 'a') #File contains (in columns) for probability F: run number, asymptotic time, modification time step, state of N3 network after modification\n",
    "\n",
    "    print(\"Running simulation for dynamic probability {:.4f}\".format(frac))\n",
    "    asymp_time_list = []\n",
    "\n",
    "    while runs < num_runs:\n",
    "\n",
    "        g = nx.complete_graph(num_node)\n",
    "\n",
    "        g = randomise_edge_weight(g, edge_weight=(-1, 1), simple_edge_weight=True, include_zero=include_zero)\n",
    "        \n",
    "        adj = get_adj_from_nx(g)\n",
    "        \n",
    "        beliefs = generate_beliefs(adj_size=num_node)\n",
    "\n",
    "        asymp_t, _, _, _, modified_edges, modification_timestep = do_simulation_dynamic(adj, edge_list, beliefs, frac, true_bias=0.6, threshold=0.01, time_threshold=100, num_iter=10000, learning_rate=0.25, edge_weight=(-1, 1), simple_edge_weight=simple_edge, mod_probability=mod_prob, include_zero=include_zero)\n",
    "\n",
    "        asymp_time_list.append(asymp_t)\n",
    "        \n",
    "        modified_edges = [list(edge) for edge in modified_edges]\n",
    "\n",
    "        file.write(f\"{runs}\\t{asymp_t}\\t{modification_timestep}\\t{list(modified_edges)}\\n\")\n",
    "\n",
    "        runs += 1\n",
    "\n",
    "    avg_asymp_time, med_asymp_time, tot_runs, runs_eliminated, percentage_eliminated = average_t_asymp(asymp_time_list)\n",
    "\n",
    "    overall_output.write(f\"{frac:.4f}\\t{tot_runs}\\t{avg_asymp_time}\\t{med_asymp_time}\\t{runs_eliminated}\\t{percentage_eliminated}\\n\")"
   ]
  },
  {
   "cell_type": "code",
   "execution_count": null,
   "id": "636a4cb2",
   "metadata": {},
   "outputs": [],
   "source": []
  },
  {
   "cell_type": "code",
   "execution_count": null,
   "id": "2b402a3f",
   "metadata": {},
   "outputs": [],
   "source": []
  }
 ],
 "metadata": {
  "kernelspec": {
   "display_name": "Python 3",
   "language": "python",
   "name": "python3"
  },
  "language_info": {
   "codemirror_mode": {
    "name": "ipython",
    "version": 3
   },
   "file_extension": ".py",
   "mimetype": "text/x-python",
   "name": "python",
   "nbconvert_exporter": "python",
   "pygments_lexer": "ipython3",
   "version": "3.8.8"
  }
 },
 "nbformat": 4,
 "nbformat_minor": 5
}
